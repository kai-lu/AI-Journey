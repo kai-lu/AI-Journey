{
 "cells": [
  {
   "cell_type": "code",
   "execution_count": 3,
   "metadata": {},
   "outputs": [
    {
     "name": "stdout",
     "output_type": "stream",
     "text": [
      "3.0303030303030303 1.0\n"
     ]
    }
   ],
   "source": [
    "print(100.0/33, 100.0%33)"
   ]
  },
  {
   "cell_type": "code",
   "execution_count": 5,
   "metadata": {},
   "outputs": [
    {
     "name": "stdout",
     "output_type": "stream",
     "text": [
      "False\n",
      "True\n"
     ]
    }
   ],
   "source": [
    "print(bool(''))\n",
    "print(bool('@#$%'))"
   ]
  },
  {
   "cell_type": "code",
   "execution_count": 8,
   "metadata": {},
   "outputs": [
    {
     "name": "stdout",
     "output_type": "stream",
     "text": [
      "Hehe Hehe Hehe Hehe Hehe Hehe Hehe Hehe Hehe Hehe  "
     ]
    }
   ],
   "source": [
    "print('Hehe ' * 10, end=' ')"
   ]
  },
  {
   "cell_type": "code",
   "execution_count": 9,
   "metadata": {},
   "outputs": [
    {
     "name": "stdout",
     "output_type": "stream",
     "text": [
      "{} {} {} {} {} {} {} {} {} {} {} {} {} {} {} {}\n"
     ]
    }
   ],
   "source": [
    "formatter = \"{} {} {} {}\"\n",
    "print(formatter.format(formatter, formatter, formatter, formatter))"
   ]
  },
  {
   "cell_type": "code",
   "execution_count": 11,
   "metadata": {},
   "outputs": [
    {
     "name": "stdout",
     "output_type": "stream",
     "text": [
      "a is b: False\n",
      "a is c: True\n"
     ]
    }
   ],
   "source": [
    "a = 0.12\n",
    "b = 0.12\n",
    "c = a\n",
    "print('a is b:', a is b)\n",
    "print('a is c:', a is c)"
   ]
  },
  {
   "cell_type": "code",
   "execution_count": 32,
   "metadata": {},
   "outputs": [
    {
     "name": "stdout",
     "output_type": "stream",
     "text": [
      "Enter your phone number:a\n",
      "Enter your phone number:12\n",
      "Enter your phone number, 8 digits, starting with \"23569\":121223\n",
      "Enter your phone number, 8 digits, starting with \"23569\":121234\n",
      "Enter your phone number, 8 digits, starting with \"23569\":414335\n",
      "Enter your phone number, 8 digits, starting with \"23569\":sdds\n",
      "Enter your phone number, 8 digits, starting with \"23569\":34343\n",
      "Enter your phone number, 8 digits, starting with \"23569\":6565\n",
      "Enter your phone number, 8 digits, starting with \"23569\":gfgg\n",
      "Enter your phone number, 8 digits, starting with \"23569\":3443\n",
      "Enter your phone number, 8 digits, starting with \"23569\":ffdf\n",
      "You have tried 11 times, but no valid phone number is entered.\n"
     ]
    },
    {
     "ename": "NameError",
     "evalue": "name 'phone_no_digits' is not defined",
     "output_type": "error",
     "traceback": [
      "\u001b[0;31m---------------------------------------------------------------------------\u001b[0m",
      "\u001b[0;31mNameError\u001b[0m                                 Traceback (most recent call last)",
      "\u001b[0;32m<ipython-input-32-03758080104b>\u001b[0m in \u001b[0;36m<module>\u001b[0;34m\u001b[0m\n\u001b[1;32m     24\u001b[0m             \u001b[0;32mbreak\u001b[0m\u001b[0;34m\u001b[0m\u001b[0;34m\u001b[0m\u001b[0m\n\u001b[1;32m     25\u001b[0m     \u001b[0mprint\u001b[0m\u001b[0;34m(\u001b[0m\u001b[0;34mf\"Your number is: {phone_no_digits}\"\u001b[0m\u001b[0;34m)\u001b[0m\u001b[0;34m\u001b[0m\u001b[0;34m\u001b[0m\u001b[0m\n\u001b[0;32m---> 26\u001b[0;31m \u001b[0mvalidate_no\u001b[0m\u001b[0;34m(\u001b[0m\u001b[0;36m10\u001b[0m\u001b[0;34m)\u001b[0m\u001b[0;34m\u001b[0m\u001b[0;34m\u001b[0m\u001b[0m\n\u001b[0m\u001b[1;32m     27\u001b[0m \u001b[0;34m\u001b[0m\u001b[0m\n",
      "\u001b[0;32m<ipython-input-32-03758080104b>\u001b[0m in \u001b[0;36mvalidate_no\u001b[0;34m(input_limit)\u001b[0m\n\u001b[1;32m     23\u001b[0m             \u001b[0mprint\u001b[0m\u001b[0;34m(\u001b[0m\u001b[0;34mf\"You have tried {input_count} times, but no valid phone number is entered.\"\u001b[0m\u001b[0;34m)\u001b[0m\u001b[0;34m\u001b[0m\u001b[0;34m\u001b[0m\u001b[0m\n\u001b[1;32m     24\u001b[0m             \u001b[0;32mbreak\u001b[0m\u001b[0;34m\u001b[0m\u001b[0;34m\u001b[0m\u001b[0m\n\u001b[0;32m---> 25\u001b[0;31m     \u001b[0mprint\u001b[0m\u001b[0;34m(\u001b[0m\u001b[0;34mf\"Your number is: {phone_no_digits}\"\u001b[0m\u001b[0;34m)\u001b[0m\u001b[0;34m\u001b[0m\u001b[0;34m\u001b[0m\u001b[0m\n\u001b[0m\u001b[1;32m     26\u001b[0m \u001b[0mvalidate_no\u001b[0m\u001b[0;34m(\u001b[0m\u001b[0;36m10\u001b[0m\u001b[0;34m)\u001b[0m\u001b[0;34m\u001b[0m\u001b[0;34m\u001b[0m\u001b[0m\n\u001b[1;32m     27\u001b[0m \u001b[0;34m\u001b[0m\u001b[0m\n",
      "\u001b[0;31mNameError\u001b[0m: name 'phone_no_digits' is not defined"
     ]
    }
   ],
   "source": [
    "def ask_phone_no(input_limit):\n",
    "    input_count = 0\n",
    "    phone_no = ''\n",
    "    while (not str.isdigit(phone_no)) and input_count <= input_limit:\n",
    "        phone_no = input('Enter your phone number:')\n",
    "        input_count += 1\n",
    "    try:\n",
    "        phone_no_digits = int(phone_no)\n",
    "        return phone_no, input_count\n",
    "    except:\n",
    "        print('Tell your phone number again, only numbers are allowed:')\n",
    "        ask_phone_no(input_limit)\n",
    "def validate_no(input_limit):\n",
    "    phone_no, input_count = ask_phone_no(input_limit)\n",
    "    legal_first_digits = '23569'\n",
    "    no_len = 8\n",
    "    while (len(phone_no) != no_len) and (phone_no[0] not in legal_first_digits):\n",
    "        if input_count <= input_limit:\n",
    "            input('Enter your phone number, 8 digits, starting with \"23569\":')\n",
    "            input_count += 1\n",
    "        else:\n",
    "            print(f\"You have tried {input_count} times, but no valid phone number is entered.\")\n",
    "            break\n",
    "    print(f\"Your number is: {phone_no}\")\n",
    "validate_no(10)\n",
    "    "
   ]
  },
  {
   "cell_type": "code",
   "execution_count": null,
   "metadata": {},
   "outputs": [],
   "source": []
  }
 ],
 "metadata": {
  "kernelspec": {
   "display_name": "Python 3",
   "language": "python",
   "name": "python3"
  },
  "language_info": {
   "codemirror_mode": {
    "name": "ipython",
    "version": 3
   },
   "file_extension": ".py",
   "mimetype": "text/x-python",
   "name": "python",
   "nbconvert_exporter": "python",
   "pygments_lexer": "ipython3",
   "version": "3.7.3"
  }
 },
 "nbformat": 4,
 "nbformat_minor": 2
}
